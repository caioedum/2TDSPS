{
  "nbformat": 4,
  "nbformat_minor": 0,
  "metadata": {
    "colab": {
      "provenance": []
    },
    "kernelspec": {
      "name": "python3",
      "display_name": "Python 3"
    },
    "language_info": {
      "name": "python"
    }
  },
  "cells": [
    {
      "cell_type": "markdown",
      "source": [
        "## Detectando faces com o OpenCV e o algoritmo Haar Cascades\n",
        "\n",
        "https://pyimagesearch.com/2021/04/12/opencv-haar-cascades/\n",
        "\n",
        "https://github.com/opencv/opencv/tree/master/data/haarcascades"
      ],
      "metadata": {
        "id": "pn8VFQyVos5m"
      }
    },
    {
      "cell_type": "code",
      "execution_count": null,
      "metadata": {
        "id": "hGfQ1W9nOGms"
      },
      "outputs": [],
      "source": [
        "# Importando o Opencv\n",
        "import cv2\n",
        "# Importando o pacote imshow do Opencv para o Google Colab\n",
        "from google.colab.patches import cv2_imshow"
      ]
    },
    {
      "cell_type": "code",
      "source": [
        "# Importar a imagem de exemplo\n",
        "imagem = cv2.imread('/content/people1.jpg')"
      ],
      "metadata": {
        "id": "CHtdHvpNON__"
      },
      "execution_count": null,
      "outputs": []
    },
    {
      "cell_type": "code",
      "source": [
        "# Verificar as dimensões da imagem\n",
        "imagem.shape"
      ],
      "metadata": {
        "id": "uGSrh1m3R3Bl"
      },
      "execution_count": null,
      "outputs": []
    },
    {
      "cell_type": "code",
      "source": [
        "# Visualizando a imagem direto pelo Opencv\n",
        "cv2_imshow(imagem)"
      ],
      "metadata": {
        "id": "ytnZS75DYJdN"
      },
      "execution_count": null,
      "outputs": []
    },
    {
      "cell_type": "code",
      "source": [
        "# Redimensionando a imagem (opcional)\n",
        "# imagem = cv2.resize(imagem, (800, 600))\n",
        "# imagem.shape"
      ],
      "metadata": {
        "id": "RDNRkO31SD4j"
      },
      "execution_count": null,
      "outputs": []
    },
    {
      "cell_type": "code",
      "source": [
        "# Convertendo em escala de cinza\n",
        "imagem_cinza = cv2.cvtColor(imagem, cv2.COLOR_BGR2GRAY)\n",
        "cv2_imshow(imagem_cinza)"
      ],
      "metadata": {
        "id": "hL_EwgzpSOJU"
      },
      "execution_count": null,
      "outputs": []
    },
    {
      "cell_type": "code",
      "source": [
        "# Verificando novamente as dimensões:\n",
        "imagem_cinza.shape"
      ],
      "metadata": {
        "id": "dAwIxnejSVra"
      },
      "execution_count": null,
      "outputs": []
    },
    {
      "cell_type": "code",
      "source": [
        "# Importando o modelo pré-treinado do classificador Haarcascade\n",
        "detector_facial = cv2.CascadeClassifier('/content/haarcascade_frontalface_default.xml')"
      ],
      "metadata": {
        "id": "JCqtVV_7SecK"
      },
      "execution_count": null,
      "outputs": []
    },
    {
      "cell_type": "code",
      "source": [
        "# Executando a função de detecção de faces\n",
        "deteccoes = detector_facial.detectMultiScale(imagem_cinza)"
      ],
      "metadata": {
        "id": "HmgzJ2EqStXK"
      },
      "execution_count": null,
      "outputs": []
    },
    {
      "cell_type": "code",
      "source": [
        "# As duas primeiras colunas referem-se às coordenadas de início e fim da face encontrada.\n",
        "# As duas últimas referem-se ao tamanho da face encontrada.\n",
        "deteccoes"
      ],
      "metadata": {
        "id": "UdIbtzy1Szw6"
      },
      "execution_count": null,
      "outputs": []
    },
    {
      "cell_type": "code",
      "source": [
        "# Verificando a quantidade de detecções\n",
        "len(deteccoes)"
      ],
      "metadata": {
        "id": "LpXwntCUTUjH"
      },
      "execution_count": null,
      "outputs": []
    },
    {
      "cell_type": "code",
      "source": [
        "# Percorrendo as coordenadas da variável \"deteccoes\":\n",
        "# Sendo:\n",
        "# x: coordenada no eixo x do canto superior esquerdo\n",
        "# y: coordenada no eixo y do canto superior esquerdo\n",
        "# w: largura\n",
        "# h: altura\n",
        "for x, y, w, h in deteccoes:\n",
        "  print(x, y, w, h)"
      ],
      "metadata": {
        "id": "BBeWMovhZ1QJ"
      },
      "execution_count": null,
      "outputs": []
    },
    {
      "cell_type": "code",
      "source": [
        "# Criando um retângulo com cv2.rectangle\n",
        "# cv2.rectangle(imagem, coordenada inicial, coordenada final,\n",
        "# RGB da cor, espessura do traço)\n",
        "for x, y, w, h in deteccoes:\n",
        "  #print(x, y, w, h)\n",
        "  cv2.rectangle(imagem, (x, y), (x + w, y + h), (0,255,0), 3)\n",
        "cv2_imshow(imagem)"
      ],
      "metadata": {
        "id": "aEx6c0WmS4pJ"
      },
      "execution_count": null,
      "outputs": []
    },
    {
      "cell_type": "markdown",
      "source": [
        "#### Ajustando o parâmetro Scale Factor.\n",
        "\n",
        "https://learnopencv.com/image-resizing-with-opencv/#resize-with-scaling-factor\n",
        "\n"
      ],
      "metadata": {
        "id": "QFNGrji_Tlo5"
      }
    },
    {
      "cell_type": "markdown",
      "source": [
        "Impacto do Scale Factor na detecção:\n",
        "\n",
        "Valores maiores que 1 (ex: 1.3): A imagem é reduzida mais rapidamente em cada passo. Isso acelera a detecção, mas pode levar a perda de faces pequenas ou em ângulos desafiadores. Útil para imagens com muitas faces ou quando a velocidade é prioridade.\n",
        "\n",
        "Valores próximos a 1 (ex: 1.1): A redução da imagem é mais gradual. Isso aumenta a chance de detectar faces menores ou em poses variadas, mas torna a detecção mais lenta. Ideal para imagens com poucas faces ou quando a precisão é fundamental."
      ],
      "metadata": {
        "id": "Yxhj1UQzw9kC"
      }
    },
    {
      "cell_type": "code",
      "source": [
        "# Valor mínimo do parâmetro scale factor: 1.01\n",
        "# Valor default do scale factor: 1.10\n",
        "imagem = cv2.imread('/content/people1.jpg')\n",
        "# imagem = cv2.resize(imagem, (800, 600))\n",
        "imagem_cinza = cv2.cvtColor(imagem, cv2.COLOR_BGR2GRAY)\n",
        "deteccoes = detector_facial.detectMultiScale(imagem_cinza, scaleFactor=1.1)\n",
        "for (x, y, w, h) in deteccoes:\n",
        "  cv2.rectangle(imagem, (x, y), (x + w, y + h), (0,255,0), 3)\n",
        "cv2_imshow(imagem)"
      ],
      "metadata": {
        "id": "lViCXwKbTtMZ"
      },
      "execution_count": null,
      "outputs": []
    },
    {
      "cell_type": "code",
      "source": [
        "# Ajustando outros parâmetros:\n",
        "# minNeighbors: mínimo de vizinhos detectados considerados faces.\n",
        "# minSize: tamanho mínimo da face.\n",
        "# maxSize: tamanho máximo da face."
      ],
      "metadata": {
        "id": "YMxR9Od6gkzM"
      },
      "execution_count": null,
      "outputs": []
    },
    {
      "cell_type": "code",
      "source": [
        "imagem = cv2.imread('/content/people2.jpg')\n",
        "imagem_cinza = cv2.cvtColor(imagem, cv2.COLOR_BGR2GRAY)\n",
        "deteccoes = detector_facial.detectMultiScale(imagem_cinza, scaleFactor=1.08, minNeighbors=3, minSize=(43,43), maxSize=(100,100))\n",
        "for (x, y, w, h) in deteccoes:\n",
        "  print(w, h)\n",
        "  cv2.rectangle(imagem, (x, y), (x + w, y + h), (0,255,0), 2)\n",
        "cv2_imshow(imagem)"
      ],
      "metadata": {
        "id": "gQfHtPmfecs9"
      },
      "execution_count": null,
      "outputs": []
    },
    {
      "cell_type": "code",
      "source": [
        "deteccoes"
      ],
      "metadata": {
        "id": "rXHhdOmSsgbG"
      },
      "execution_count": null,
      "outputs": []
    },
    {
      "cell_type": "code",
      "source": [],
      "metadata": {
        "id": "jv_Ij64lsjA2"
      },
      "execution_count": null,
      "outputs": []
    }
  ]
}